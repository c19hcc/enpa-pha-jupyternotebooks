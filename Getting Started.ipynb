{
 "cells": [
  {
   "cell_type": "markdown",
   "id": "87f645cf",
   "metadata": {},
   "source": [
    "# Getting Started\n",
    "\n",
    "This notebook will provide an introduction to leveraging the ENPA REST APIs to download and analyze data for your jurisdiction by performing the following actions:\n",
    "1. <a href=\"#Generating-an-API-Key\">Generating an API key</a>,\n",
    "2. <a href=\"#Downloading-ENPA-Data\">Downloading ENPA data</a>, and \n",
    "3. <a href=\"#Visualizing-the-Downloaded-Data\">Visualizing the downloaded data</a>."
   ]
  },
  {
   "cell_type": "markdown",
   "id": "d3bf9da6",
   "metadata": {},
   "source": [
    "## Generating an API Key\n",
    "\n",
    "This section will describe how to generate an API key within the ENPA Portal. An API key is required to download data. Note that only portal administrators may create API keys. Begin by following the steps below.\n",
    "\n",
    "1) Navigate to your jurisdiction's *Home* page and select *Manage Access*."
   ]
  },
  {
   "cell_type": "markdown",
   "id": "b1011ed9",
   "metadata": {},
   "source": [
    "![Step1](https://raw.githubusercontent.com/c19hcc/enpa-pha-jupyternotebooks/main/images/Step1.png)"
   ]
  },
  {
   "cell_type": "markdown",
   "id": "a07536e5",
   "metadata": {},
   "source": [
    "2) Scroll down towards the bottom of the page until you see the *API Keys* section. Select *Add API Key*."
   ]
  },
  {
   "cell_type": "markdown",
   "id": "9011e632",
   "metadata": {},
   "source": [
    "![Step2W](https://raw.githubusercontent.com/c19hcc/enpa-pha-jupyternotebooks/main/images/Step2W.png)"
   ]
  },
  {
   "cell_type": "markdown",
   "id": "109723c8",
   "metadata": {},
   "source": [
    "3) Give your API Key a name. Try to include an identifying feature (e.g., your name), so others know that it belongs to you. After reading the terms and conditions, select *Agree & Save*."
   ]
  },
  {
   "cell_type": "markdown",
   "id": "24965ed8",
   "metadata": {},
   "source": [
    "![Step3](https://raw.githubusercontent.com/c19hcc/enpa-pha-jupyternotebooks/main/images/Step3.png)"
   ]
  },
  {
   "cell_type": "markdown",
   "id": "e255f0c4",
   "metadata": {},
   "source": [
    "4) Your API credentials will appear. It is recommended that you record your *Full Key* in a text file on your computer since you will not be able to retreive it later. We will use it later in this tutorial, so feel free to paste it below (within quotation marks) in addition to saving it in a text file on your computer."
   ]
  },
  {
   "cell_type": "code",
   "execution_count": null,
   "id": "0834214d",
   "metadata": {},
   "outputs": [],
   "source": [
    "myFullKey = \"\" # Insert your full key between the quotation marks"
   ]
  },
  {
   "cell_type": "code",
   "execution_count": null,
   "id": "6f0a41c0",
   "metadata": {},
   "outputs": [],
   "source": [
    "saveKey=open(\"ENPA_API_Key.txt\",'w')\n",
    "saveKey.write(f\"Full Key: {myFullKey}\")\n",
    "saveKey.close()"
   ]
  },
  {
   "cell_type": "markdown",
   "id": "15657473",
   "metadata": {},
   "source": [
    "## Downloading ENPA Data\n",
    "\n",
    "This section will describe how to download ENPA data to perform further analysis using the API key generated in the previous section. Begin by following the steps below."
   ]
  },
  {
   "cell_type": "markdown",
   "id": "5a1c01da",
   "metadata": {},
   "source": [
    "1) Navigate to the *API Docs* tab within the ENPA portal, and select *Authorize*."
   ]
  },
  {
   "cell_type": "markdown",
   "id": "d602a22f",
   "metadata": {},
   "source": [
    "![Step4](https://raw.githubusercontent.com/c19hcc/enpa-pha-jupyternotebooks/main/images/Step4.png)"
   ]
  },
  {
   "cell_type": "markdown",
   "id": "be9618c4",
   "metadata": {},
   "source": [
    "2) Input your *Full Key* into the dialog box and select *Authorize*. Note, the API key must be included as an `X-Api-Key` header in all requests."
   ]
  },
  {
   "cell_type": "markdown",
   "id": "1a9c2e02",
   "metadata": {},
   "source": [
    "![Step5W](https://raw.githubusercontent.com/c19hcc/enpa-pha-jupyternotebooks/main/images/Step5W.png)"
   ]
  },
  {
   "cell_type": "markdown",
   "id": "7fffe16c",
   "metadata": {},
   "source": [
    "3) Import Python's Request library and construct the necessary header to include the API key."
   ]
  },
  {
   "cell_type": "code",
   "execution_count": null,
   "id": "23ca6edc",
   "metadata": {},
   "outputs": [],
   "source": [
    "import requests\n",
    "\n",
    "header = {\"X-Api-Key\": myFullKey}"
   ]
  },
  {
   "cell_type": "markdown",
   "id": "56de2db7",
   "metadata": {},
   "source": [
    "4) Specify parameters and request the desired data.\n",
    "* `datasets`: Choose from one of several datasets to download :`notification`, `notificationInteractions`, `riskParameters`, `codeVerified`, `keysUploaded`, `beaconCount`, `dateExposure`, `dateExposure14d`, `dateExposureV2`, `keysUploadedVaccineStatus` , `keysUploadedVaccineStatus14d`, `keysUploadedVaccineStatusV2`, `keysUploadedWithReportType`, `keysUploadedWithReportType14d`, `periodicExposureNotification`, `periodicExposureNotification14d`, `secondaryAttack`, `secondaryAttack14d`, or `userRisk`.\n",
    "* `raw`: Specify `True` to return the raw, biased data or `False` to return the debiased data.\n",
    "* `start_date`: Specify a start date to download data (must be in YYYY-MM-DD format); if omitted, the default is 90 days before either the end date (if specified) or the current date.\n",
    "* `end_date`: Specify an end date to download data (must be in YYYY-MM-DD format); if omitted, the default is the current date.\n",
    "* `country`: Input an ISO 3166-1 code for the country (e.g., `US`).\n",
    "* `state`: Input an ISO-3166-2 code for the subdivision, state, or province (e.g., `US-VA`)."
   ]
  },
  {
   "cell_type": "code",
   "execution_count": null,
   "id": "7c4b9f41",
   "metadata": {},
   "outputs": [],
   "source": [
    "parameters = {\n",
    "    \"datasets\": \"notification\",\n",
    "    \"raw\": False,\n",
    "    \"start_date\": \"2022-01-01\",\n",
    "    \"end_date\": \"2022-01-31\",\n",
    "    \"country\": \"US\",\n",
    "    \"state\": \"US-VA\"\n",
    "}"
   ]
  },
  {
   "cell_type": "code",
   "execution_count": null,
   "id": "fa71859d",
   "metadata": {},
   "outputs": [],
   "source": [
    "notificationRequest = requests.get(\"https://api.enpa-pha.io/api/public/v2/enpa-data\",\n",
    "                      headers = header, params = parameters)\n",
    "print(\"Reason: \", notificationRequest.reason, \"\\nStatus Code: \", notificationRequest.status_code)"
   ]
  },
  {
   "cell_type": "markdown",
   "id": "b6bb02af",
   "metadata": {},
   "source": [
    "A *Status Code* of 200 indicates that the data was successfully retrieved!"
   ]
  },
  {
   "cell_type": "markdown",
   "id": "fc5e2ef9",
   "metadata": {},
   "source": [
    "## Visualizing the Downloaded Data\n",
    "\n",
    "This section will describe how to prepare and visualize data downloaded from ENPA's REST API. Begin by following the steps below."
   ]
  },
  {
   "cell_type": "markdown",
   "id": "5ae184d0",
   "metadata": {},
   "source": [
    "1) Convert the downloaded data from string to dictionary form using the `json` library, so it can be easy manipulated."
   ]
  },
  {
   "cell_type": "code",
   "execution_count": null,
   "id": "43e13ad6",
   "metadata": {},
   "outputs": [],
   "source": [
    "import json\n",
    "convertedNotifications = json.loads(notificationRequest.text)"
   ]
  },
  {
   "cell_type": "markdown",
   "id": "bf276e04",
   "metadata": {},
   "source": [
    "Here is what the data looks like. Let's try to visualize total number of notifications over time."
   ]
  },
  {
   "cell_type": "code",
   "execution_count": null,
   "id": "18d18cd9",
   "metadata": {},
   "outputs": [],
   "source": [
    "convertedNotifications"
   ]
  },
  {
   "cell_type": "markdown",
   "id": "65e8cd9f",
   "metadata": {},
   "source": [
    "2) Crawling through the dictionary structure, the total number of notifications for both iOS and Android devices can be extracted from `convertedNotifications[\"metricData\"][i][\"dataTotals\"][0]['expectedValue']` where $i = 0, 3, 6, 9, \\dots$. Therefore, the following function will extract the needed data."
   ]
  },
  {
   "cell_type": "code",
   "execution_count": null,
   "id": "28620271",
   "metadata": {},
   "outputs": [],
   "source": [
    "import pandas as pd\n",
    "from datetime import datetime\n",
    "import matplotlib.pyplot as plt\n",
    "\n",
    "# Displays a chart of the total number of notifications from both iOS and Android \n",
    "# devices over the specified period of time\n",
    "#     param data: Notifications dataset from the ENPA REST API in JSON form\n",
    "def makeTotalNotificationsChart(data):\n",
    "    dates = []\n",
    "    notifications = []\n",
    "    for i in range(len(data[\"metricData\"])):\n",
    "        if (i % 3 == 0):\n",
    "            dates.append(datetime.strptime(convertedNotifications[\"metricData\"][i][\"date\"], '%Y-%m-%d'))\n",
    "            notifications.append(data[\"metricData\"][i][\"dataTotals\"][0]['expectedValue'])\n",
    "    plt.figure(figsize=(15, 8))\n",
    "    plt.rcParams.update({'font.size': 16})\n",
    "    plt.plot(dates, notifications)\n",
    "    plt.xticks(rotation=45)\n",
    "    plt.xlabel(\"Date\")\n",
    "    plt.ylabel(\"Number of Notifications\")\n",
    "    plt.title(\"Total Notifications Over Time\")"
   ]
  },
  {
   "cell_type": "code",
   "execution_count": null,
   "id": "00cd7c6b",
   "metadata": {},
   "outputs": [],
   "source": [
    "makeTotalNotificationsChart(convertedNotifications)"
   ]
  }
 ],
 "metadata": {
  "kernelspec": {
   "display_name": "Python 3 (ipykernel)",
   "language": "python",
   "name": "python3"
  },
  "language_info": {
   "codemirror_mode": {
    "name": "ipython",
    "version": 3
   },
   "file_extension": ".py",
   "mimetype": "text/x-python",
   "name": "python",
   "nbconvert_exporter": "python",
   "pygments_lexer": "ipython3",
   "version": "3.9.7"
  }
 },
 "nbformat": 4,
 "nbformat_minor": 5
}
