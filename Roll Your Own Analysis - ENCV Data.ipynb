{
 "cells": [
  {
   "cell_type": "markdown",
   "id": "7d0da3b2",
   "metadata": {},
   "source": [
    "# Roll Your Own Analysis: ENCV Data\n",
    "\n",
    "This notebook will demonstrate how to download data from the ENCV REST API and produce a few basic visualizations by performing the following actions:\n",
    "\n",
    "1. <a href=\"#Downloading-ENCV-Data\">Downloading ENCV data</a>, \n",
    "2. <a href=\"#Preparing-ENCV-Data\">Preparing ENCV data</a>, and\n",
    "3. <a href=\"#Visualizing-ENCV-Data\">Visualizing ENCV data</a>.\n",
    "\n",
    "Be sure to have your full API key ready before proceeding. These keys are managed at the public health authority level."
   ]
  },
  {
   "cell_type": "markdown",
   "id": "34a5f6be",
   "metadata": {},
   "source": [
    "## Downloading ENCV Data\n",
    "\n",
    "This section will show you how to make an ENCV data request to perform further analysis using your full API key. Begin by following the steps below.\n",
    "\n",
    "1) Import Python's Request library and construct the necessary header to include the API key."
   ]
  },
  {
   "cell_type": "code",
   "execution_count": null,
   "id": "30d8fee8",
   "metadata": {},
   "outputs": [],
   "source": [
    "import requests\n",
    "\n",
    "header = {\"X-Api-Key\": # \" Remove the #, and insert API key here \"}"
   ]
  },
  {
   "cell_type": "markdown",
   "id": "e1528571",
   "metadata": {},
   "source": [
    "2) Request the desired data. Unlike the ENPA API, there are no available parameters for the ENCV API. The default returning dataset will display the last 90 days of data for your jurisdiction. After 90 days, the data is erased, so be sure to regularly request and back up your data."
   ]
  },
  {
   "cell_type": "code",
   "execution_count": null,
   "id": "5f9e3169",
   "metadata": {},
   "outputs": [],
   "source": [
    "ENCVrequest = requests.get(\"https://adminapi.verification.apollo-project.org/api/stats/realm.json\",\n",
    "                      headers = header)\n",
    "print(\"Reason: \", ENCVrequest.reason, \"\\nStatus Code: \", ENCVrequest.status_code)"
   ]
  },
  {
   "cell_type": "markdown",
   "id": "8ed3a05a",
   "metadata": {},
   "source": [
    "A _Status Code_ of 200 indicates that the data was successfully retrieved!\n",
    "\n",
    "Please note that no debiasing is necessary for ENCV data, so you can begin preparing the data and creating visualizations."
   ]
  },
  {
   "cell_type": "markdown",
   "id": "02ea409b",
   "metadata": {},
   "source": [
    "## Preparing ENCV Data\n",
    "\n",
    "This section will describe how to prepare the data downloaded from the ENCV API. Begin by following the steps below."
   ]
  },
  {
   "cell_type": "markdown",
   "id": "cbf2738c",
   "metadata": {},
   "source": [
    "1) Convert the downloaded data from string to dictionary form using the `json` library, so it can be easily manipulated."
   ]
  },
  {
   "cell_type": "code",
   "execution_count": null,
   "id": "aeeed87a",
   "metadata": {},
   "outputs": [],
   "source": [
    "import json\n",
    "convertedENCV = json.loads(ENCVrequest.text)"
   ]
  },
  {
   "cell_type": "markdown",
   "id": "c7ecceb0",
   "metadata": {},
   "source": [
    "Here is what the data look like."
   ]
  },
  {
   "cell_type": "code",
   "execution_count": null,
   "id": "64b6148f",
   "metadata": {},
   "outputs": [],
   "source": [
    "convertedENCV"
   ]
  },
  {
   "cell_type": "markdown",
   "id": "d2253985",
   "metadata": {},
   "source": [
    "For better context, here is a data dictionary along with with the corresponding ENPA equivalent metrics.\n",
    "\n",
    "*Note: Please download and view this notebook in an environment compatible with .ipynb files to view the table properly.*\n",
    "\n",
    "| Column Name | Type | Default | Definition | ENPA Equivalent | Notes\n",
    "| :-: | :-: | :-: | :-- | :-: | :-- |\n",
    "code_claim_age_distribution | `int[]` | N/A | Shows the distribution of time from code issue to claim. |  | Buckets are: 1m, 5m, 15m, 30m, 1h, 2h, 3h, 6h, 12h, 24h, >24h\n",
    "code_claim_mean_age_seconds | `int` | 0 | The mean time in seconds for codes to be claimed. |  | \n",
    "codes_claimed | `int` | 0 | The number of successful claims. Codes can only be claimed by the end user using the API. Typically, the iOS or Android application is responsible for claiming the code. | Codes Verified | Refers to the number of codes that a user validated on their mobile device before the code expired. The delta between codes issued and codes claimed can be used as a rudimentary measure of adoption.\n",
    "codes_invalid | `int` | 0 | The number of codes that were rejected by the system. This includes codes with typographical errors and codes that have expired. |  | A large number of invalid codes likely corresponds to short codes expiring. The timeout for short codes can be adjusted.\n",
    "codes_invalid_by_os | `bigint[]` | N/A | An array where the index is the controller.OperatingSystem enums (unknown_os, ios, android). |  | \n",
    "codes_issued | `int` | 0 | The total number of codes issued by the health authority and due to self-report requests from user devices. Codes can be issued via the ENCV web interface or via the API. Both types of codes are included in this metric. |  | Issued codes does not necessarily correspond to the number of paitents notified. A single paitent could be notified multiple times, while another paitent could never receive their notification due to an SMS error.\n",
    "date | `date` | N/A | The date in which the statistics are valid. |  | Unlike many ENPA metrics, there is only one entry for each day. The date is in Zulu format (e.g., 2022-03-05T00:00:00Z).\n",
    "realm_id | `int` | N/A | The identification number for the realm. |  | \n",
    "tokens_claimed | `int` | 0 | The total number of users that successfully claimed a verification code and then consented to key release. | Keys Uploaded | The delta between codes claimed and tokens claimed indicates users that enter a valid verification code but don't get through the consent to share data screen.\n",
    "tokens_invalid | `int` | 0 | The number of tokens which failed to exchange due to a user error. |  | This includes User Report Tokens Claimed.\n",
    "user_report_tokens_claimed | `int` | 0 | The number of tokens claimed that represent a user-initiated request. |  | This sum is also included in Tokens Claimed.\n",
    "user_reports_claimed | `int` | 0 | The specific number of codes that were claimed because the user initiated a self-report request. |  | \n",
    "user_reports_issued | `int` | 0 | The specific number of codes that were issued because the user initiated a self-report request. |  | These numbers are also included in the sum of codes issued and codes claimed. Taking the difference between user reports issued and codes issued can be used to figure out the number of codes issued by the health authority."
   ]
  },
  {
   "cell_type": "markdown",
   "id": "24d2c691",
   "metadata": {},
   "source": [
    "Here is the above table summarized in a flowchart. Note that all User Report metrics represent a subset of their corresponding metric. For example, User Reports Claimed is a subset of Codes Claimed."
   ]
  },
  {
   "cell_type": "markdown",
   "id": "9ef34d3b",
   "metadata": {},
   "source": [
    "![ENCVFlow](https://raw.githubusercontent.com/c19hcc/enpa-pha-jupyternotebooks/main/images/ENCVFlow.jpg)"
   ]
  },
  {
   "cell_type": "markdown",
   "id": "40421f0c",
   "metadata": {},
   "source": [
    "2) Let's extract a few metrics to create some graphs. In this notebook, we will focus on Codes Claimed, Tokens Claimed, and the Code Claim Distribution. We will create a dataframe with each record representing a single day."
   ]
  },
  {
   "cell_type": "code",
   "execution_count": null,
   "id": "97e0bdcd",
   "metadata": {},
   "outputs": [],
   "source": [
    "import pandas as pd\n",
    "from datetime import datetime\n",
    "import warnings\n",
    "warnings.filterwarnings('ignore')\n",
    "\n",
    "# Initialize Lists for Data Storage\n",
    "dates, codesClaimed, tokensClaimed = [], [], []\n",
    "ageDist1Min, ageDist5Mins, ageDist15Mins, totalTime = [], [], [], []\n",
    "\n",
    "for i in range(len(convertedENCV['statistics'])):\n",
    "    dates.append(datetime.strptime(convertedENCV['statistics'][i]['date'][0:10], \"%Y-%m-%d\"))\n",
    "    codesClaimed.append(convertedENCV['statistics'][i]['data']['codes_claimed'])\n",
    "    tokensClaimed.append(convertedENCV['statistics'][i]['data']['tokens_claimed'])\n",
    "    ageDist1Min.append(convertedENCV['statistics'][i]['data']['code_claim_age_distribution'][0])\n",
    "    ageDist5Mins.append(ageDist1Min[i] + convertedENCV['statistics'][i]['data']['code_claim_age_distribution'][1])\n",
    "    ageDist15Mins.append(ageDist5Mins[i] + convertedENCV['statistics'][i]['data']['code_claim_age_distribution'][2])\n",
    "    total = 0\n",
    "    for j in range(0, 11):\n",
    "        total += convertedENCV['statistics'][i]['data']['code_claim_age_distribution'][j]\n",
    "    totalTime.append(total)"
   ]
  },
  {
   "cell_type": "markdown",
   "id": "0c82783b",
   "metadata": {},
   "source": [
    "3) Let's store our data in a dataframe for easy graphing and find the proportion of three of the buckets in the Code Claim Distribution."
   ]
  },
  {
   "cell_type": "code",
   "execution_count": null,
   "id": "8189f11f",
   "metadata": {},
   "outputs": [],
   "source": [
    "df = pd.DataFrame(list(zip(dates, codesClaimed, tokensClaimed, ageDist1Min, ageDist5Mins, ageDist15Mins, totalTime)), \n",
    "                  columns = ['Date', 'CodesClaimed', 'TokensClaimed', 'age1Min', 'age5Mins', 'age15Mins', 'totalTime'])\n",
    "\n",
    "df['1MinProp'] = df['age1Min'] / df['totalTime'] * 100\n",
    "df['5MinsProp'] = df['age5Mins'] / df['totalTime'] * 100\n",
    "df['15MinsProp'] = df['age15Mins'] / df['totalTime'] * 100"
   ]
  },
  {
   "cell_type": "markdown",
   "id": "118c960e",
   "metadata": {},
   "source": [
    "Here is what the dataframe looks like."
   ]
  },
  {
   "cell_type": "code",
   "execution_count": null,
   "id": "011e586e",
   "metadata": {},
   "outputs": [],
   "source": [
    "df"
   ]
  },
  {
   "cell_type": "markdown",
   "id": "63b5a70d",
   "metadata": {},
   "source": [
    "## Visualizing ENCV Data\n",
    "\n",
    "This section will describe how to prepare and visualize the data downloaded from ENCV's REST API. Begin by following the steps below."
   ]
  },
  {
   "cell_type": "markdown",
   "id": "c8e5325e",
   "metadata": {},
   "source": [
    "1) Consider how many days of data you want the graph to include. The maximum is 90 days. Change the `duration` variable to specify the duration of your graph."
   ]
  },
  {
   "cell_type": "code",
   "execution_count": null,
   "id": "8158d91a",
   "metadata": {},
   "outputs": [],
   "source": [
    "import matplotlib.pyplot as plt\n",
    "%matplotlib inline\n",
    "\n",
    "# Be sure lastDate < duration\n",
    "lastDate = x = 0 # how many days ago is the last day to graph (0 = today)\n",
    "duration = 14 # how many days back to graph "
   ]
  },
  {
   "cell_type": "markdown",
   "id": "6a483ab6",
   "metadata": {},
   "source": [
    "2) Run the code cell below to construct the Codes Claimed line chart. The dataframe, `df`, is already organized, so it is easy to plot the data."
   ]
  },
  {
   "cell_type": "code",
   "execution_count": null,
   "id": "affeafbb",
   "metadata": {},
   "outputs": [],
   "source": [
    "n = x + duration\n",
    "\n",
    "fig, ax = plt.subplots()\n",
    "ax.plot(df['Date'][x:n], df['CodesClaimed'][x:n], linewidth = 3)\n",
    "fig.suptitle('Number of Codes Claimed', fontsize = '16')\n",
    "\n",
    "ax.spines['right'].set_visible(False)\n",
    "ax.spines['top'].set_visible(False)\n",
    "ax.set_ylim(0, max(df['CodesClaimed'][x:n])*1.05)\n",
    "\n",
    "fig.set_size_inches(9.66, 6) # golden ratio \n",
    "ax.set_xlabel('Date', fontsize = '14')\n",
    "ax.set_ylabel('Number of Codes Claimed', fontsize = '14');"
   ]
  },
  {
   "cell_type": "code",
   "execution_count": null,
   "id": "9769601e",
   "metadata": {},
   "outputs": [],
   "source": [
    "# Save the above figure to your current directory\n",
    "startDate = datetime.strftime(df['Date'][x], \"%Y-%m-%d\")\n",
    "endDate = datetime.strftime(df['Date'][n], \"%Y-%m-%d\")\n",
    "fig.savefig(f'CodesClaimed_{startDate}_to_{endDate}.pdf', format='pdf', dpi=400)"
   ]
  },
  {
   "cell_type": "markdown",
   "id": "e0d30f6f",
   "metadata": {},
   "source": [
    "3) Run the code cell below to construct the Tokens Claimed line chart. "
   ]
  },
  {
   "cell_type": "code",
   "execution_count": null,
   "id": "2ae54e3b",
   "metadata": {},
   "outputs": [],
   "source": [
    "fig, ax = plt.subplots()\n",
    "ax.plot(df['Date'][x:n], df['TokensClaimed'][x:n], linewidth = 3)\n",
    "fig.suptitle('Number of Tokens Claimed', fontsize = '16')\n",
    "\n",
    "ax.spines['right'].set_visible(False)\n",
    "ax.spines['top'].set_visible(False)\n",
    "ax.set_ylim(0, max(df['TokensClaimed'][x:n])*1.05)\n",
    "\n",
    "fig.set_size_inches(9.66, 6)\n",
    "ax.set_xlabel('Date', fontsize = '14')\n",
    "ax.set_ylabel('Number of Tokens Claimed', fontsize = '14');"
   ]
  },
  {
   "cell_type": "code",
   "execution_count": null,
   "id": "0d1799d8",
   "metadata": {},
   "outputs": [],
   "source": [
    "# Save the above figure to your current directory\n",
    "fig.savefig(f'TokensClaimed_{startDate}_to_{endDate}.pdf', format='pdf', dpi=400)"
   ]
  },
  {
   "cell_type": "markdown",
   "id": "17ef3e3f",
   "metadata": {},
   "source": [
    "4) Run the code cell below to construct the Codes Claimed Age Distribution comparative bar charts."
   ]
  },
  {
   "cell_type": "code",
   "execution_count": null,
   "id": "4cd35e23",
   "metadata": {},
   "outputs": [],
   "source": [
    "fig,ax = plt.subplots(nrows=3, ncols=1)\n",
    "fig.suptitle('Codes Claim Age Distribution')\n",
    "fig.tight_layout()\n",
    "\n",
    "fig.set_figheight(9.66)\n",
    "fig.set_figwidth(6)\n",
    "ax[0].bar(df['Date'][x:n], df['1MinProp'][x:n], color = 'lightgrey')\n",
    "ax[1].bar(df['Date'][x:n], df['5MinsProp'][x:n], color = 'lightgrey')\n",
    "ax[2].bar(df['Date'][x:n], df['15MinsProp'][x:n], color = 'lightgrey')\n",
    "\n",
    "ax[0].set_title('0-1 Minutes Codes Claimed')\n",
    "ax[1].set_title('0-5 Minutes Codes Claimed')\n",
    "ax[2].set_title('0-15 Minutes Codes Claimed')\n",
    "\n",
    "for i in range(0, 3):\n",
    "    ax[i].spines['right'].set_visible(False)\n",
    "    ax[i].spines['top'].set_visible(False)\n",
    "    ax[i].set_ylim(0,100)\n",
    "    ax[i].set_yticklabels(['{:1.0f}%'.format(x) for x in ax[0].get_yticks()])\n",
    "    ax[i].set_xticks(df['Date'][x:n][::4]);"
   ]
  },
  {
   "cell_type": "code",
   "execution_count": null,
   "id": "3c97acf8",
   "metadata": {},
   "outputs": [],
   "source": [
    "# Save the above figure to your current directory\n",
    "fig.savefig(f'CodesClaimedDistribution_{startDate}_to_{endDate}.pdf', format='pdf', dpi=400)"
   ]
  }
 ],
 "metadata": {
  "kernelspec": {
   "display_name": "Python 3 (ipykernel)",
   "language": "python",
   "name": "python3"
  },
  "language_info": {
   "codemirror_mode": {
    "name": "ipython",
    "version": 3
   },
   "file_extension": ".py",
   "mimetype": "text/x-python",
   "name": "python",
   "nbconvert_exporter": "python",
   "pygments_lexer": "ipython3",
   "version": "3.9.7"
  }
 },
 "nbformat": 4,
 "nbformat_minor": 5
}
